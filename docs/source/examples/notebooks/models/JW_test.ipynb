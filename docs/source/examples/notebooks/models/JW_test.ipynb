{
 "cells": [
  {
   "cell_type": "code",
   "execution_count": 64,
   "metadata": {},
   "outputs": [
    {
     "name": "stdout",
     "output_type": "stream",
     "text": [
      "<pybamm.models.base_model.BaseModel object at 0x7fb3d14a3100>\n"
     ]
    },
    {
     "data": {
      "application/vnd.jupyter.widget-view+json": {
       "model_id": "1e94e2b2f6524ba4b0c671a0f7fe0a98",
       "version_major": 2,
       "version_minor": 0
      },
      "text/plain": [
       "interactive(children=(FloatSlider(value=0.0, description='t', max=2.0, step=0.02), Output()), _dom_classes=('w…"
      ]
     },
     "metadata": {},
     "output_type": "display_data"
    },
    {
     "data": {
      "text/plain": [
       "<pybamm.plotting.quick_plot.QuickPlot at 0x7fb3d1b77c40>"
      ]
     },
     "execution_count": 64,
     "metadata": {},
     "output_type": "execute_result"
    }
   ],
   "source": [
    "import pybamm\n",
    "import matplotlib.pyplot as plt\n",
    "import numpy as np\n",
    "# 创建模型\n",
    "model = pybamm.BaseModel()\n",
    "\n",
    "\n",
    "# 定义变量和参数\n",
    "c = pybamm.Variable(\"Electrolyte concentration\", domain=[\"separator\"])\n",
    "phi = pybamm.Variable(\"Electrode potential\", domain=[\"separator\"])\n",
    "phi_e = pybamm.Variable(\"Electrolyte potential\", domain=[\"separator\"])\n",
    "c_k = pybamm.Variable(\"Li+ concentration in electrode\", domain=[\"separator\"])\n",
    "\n",
    "#c_av = pybamm.Variable(\"X-averaged electrolyte concentration\", domain=[\"separator\"])\n",
    "\n",
    "\n",
    "\n",
    "U = pybamm.Scalar(0)\n",
    "j_k = pybamm.Scalar(1)\n",
    "j_e = pybamm.Scalar(1)\n",
    " \n",
    "D_e = pybamm.Scalar(1e-10)\n",
    "D_li = pybamm.Scalar(5e-10)\n",
    "sigma_k = pybamm.Scalar(1)\n",
    "kappa = pybamm.Scalar(1)\n",
    "A = pybamm.Scalar(1)\n",
    " \n",
    " \n",
    "# Electrolyte mass transport\n",
    "N = -D_e * pybamm.grad(c) \n",
    "dcdt = - pybamm.div(N)\n",
    "model.rhs = {c: dcdt}\n",
    " \n",
    "# Li+ concentration in electrode transport\n",
    "N_c_k = -D_li * pybamm.grad(c_k)\n",
    "dc_k_dt = -pybamm.div(N_c_k)\n",
    "model.rhs[c_k] = dc_k_dt\n",
    "#reaction_rate = j_k - j_e  \n",
    " \n",
    "# Electrode charge transport\n",
    "i_k = -sigma_k * pybamm.grad(phi)\n",
    "i_e = -kappa * pybamm.grad(phi_e)\n",
    "model.algebraic = {\n",
    "    phi: pybamm.div(i_k) + A * j_k,\n",
    "    phi_e: pybamm.div(i_e) - A * j_e\n",
    "}\n",
    " \n",
    "# Overpotential (as an auxiliary variable)\n",
    "eta_k = phi - phi_e - U\n",
    "\n",
    "c_av = pybamm.x_average(c)\n",
    "\n",
    "\n",
    "model.variables = {\n",
    "    \"Electrode potential\": phi,\n",
    "    \"Electrolyte potential\": phi_e,\n",
    "    \"Overpotential\": eta_k,\n",
    "    \"Electrolyte concentration\": c,\n",
    "    \"Li+ concentration in electrode\":c_k,\n",
    "    \"X-averaged electrolyte concentration\": pybamm.x_average(c)\n",
    "    \n",
    "}\n",
    " \n",
    "# 定义初始条件\n",
    "model.initial_conditions = {\n",
    "    c: pybamm.Scalar(1),\n",
    "    phi: pybamm.Scalar(0),\n",
    "    phi_e: pybamm.Scalar(0),\n",
    "    c_k: pybamm.Scalar(1),\n",
    "}\n",
    " \n",
    "# 定义外加电流\n",
    "I_app = -10e-6\n",
    "A = 8e-3 * 1e-3  \n",
    " \n",
    "current_density = I_app / A\n",
    " \n",
    " \n",
    "# 定义边界条件\n",
    "model.boundary_conditions = {\n",
    "    c: {\"left\": (pybamm.Scalar(1), \"Dirichlet\"), \"right\": (pybamm.Scalar(0), \"Neumann\")},\n",
    "    phi: {\"left\": (pybamm.Scalar(0), \"Dirichlet\"), \"right\": (pybamm.Scalar(current_density), \"Neumann\")},\n",
    "    phi_e: {\"left\": (pybamm.Scalar(0), \"Dirichlet\"), \"right\": (pybamm.Scalar(0), \"Dirichlet\")},\n",
    "    c_k: {\"left\": (pybamm.Scalar(1), \"Dirichlet\"), \"right\": (pybamm.Scalar(0), \"Neumann\")}\n",
    "}\n",
    " \n",
    " \n",
    "  \n",
    "x_s = pybamm.SpatialVariable(\"x_s\", domain=[\"separator\"], coord_sys=\"cartesian\")\n",
    "geometry = {\n",
    "    \"separator\": {x_s: {\"min\": pybamm.Scalar(8.52e-5), \"max\": pybamm.Scalar(9.72e-5)}},\n",
    "}\n",
    " \n",
    " \n",
    "submesh_types = {\n",
    "    \"separator\": pybamm.MeshGenerator(pybamm.Uniform1DSubMesh),\n",
    "}\n",
    "var_pts = {x_s: 20}\n",
    "mesh = pybamm.Mesh(geometry, submesh_types, var_pts)\n",
    "spatial_methods = {\n",
    "    \"separator\": pybamm.FiniteVolume(),\n",
    "}\n",
    "\n",
    "disc = pybamm.Discretisation(mesh, spatial_methods)\n",
    " \n",
    " \n",
    "disc.process_model(model)\n",
    " \n",
    "# 检查模型\n",
    "print(model)\n",
    " \n",
    " \n",
    " \n",
    "# 创建仿真器并运行仿真，使用CasadiSolver\n",
    "sim = pybamm.Simulation(model, solver=pybamm.CasadiSolver())\n",
    "t = [0, 7200]\n",
    "solution = sim.solve(t)  # 例如运行2小时\n",
    " \n",
    " \n",
    " \n",
    "pybamm.dynamic_plot(\n",
    "    solution,\n",
    "    [\n",
    "        \"Electrode potential\",\n",
    "        \"Electrolyte potential\",\n",
    "        \"Overpotential\",\n",
    "        \"Electrolyte concentration\",\n",
    "        \"Li+ concentration in electrode\"\n",
    "    ],\n",
    " \n",
    ")"
   ]
  },
  {
   "cell_type": "code",
   "execution_count": 68,
   "metadata": {},
   "outputs": [
    {
     "data": {
      "text/plain": [
       "[<matplotlib.lines.Line2D at 0x7fb3d06754f0>]"
      ]
     },
     "execution_count": 68,
     "metadata": {},
     "output_type": "execute_result"
    },
    {
     "data": {
      "image/png": "[encoded data removed]",
      "text/plain": [
       "<Figure size 640x480 with 1 Axes>"
      ]
     },
     "metadata": {},
     "output_type": "display_data"
    }
   ],
   "source": [
    "plt.plot(solution.t,solution['X-averaged electrolyte concentration'].entries)"
   ]
  }
 ],
 "metadata": {
  "kernelspec": {
   "display_name": "my_new_pybamm",
   "language": "python",
   "name": "python3"
  },
  "language_info": {
   "codemirror_mode": {
    "name": "ipython",
    "version": 3
   },
   "file_extension": ".py",
   "mimetype": "text/x-python",
   "name": "python",
   "nbconvert_exporter": "python",
   "pygments_lexer": "ipython3",
   "version": "3.9.5"
  }
 },
 "nbformat": 4,
 "nbformat_minor": 2
}

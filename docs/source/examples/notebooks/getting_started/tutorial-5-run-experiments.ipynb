{
 "cells": [
  {
   "attachments": {},
   "cell_type": "markdown",
   "metadata": {},
   "source": [
    "# Tutorial 5 - Run experiments"
   ]
  },
  {
   "attachments": {},
   "cell_type": "markdown",
   "metadata": {},
   "source": [
    "In [Tutorial 4](./tutorial-4-setting-parameter-values.ipynb) we saw how to change the parameters, including the applied current. However, in some cases we might want to prescribe a given voltage, a given power or switch between different conditions to simulate experimental setups. We can use the Experiment class for these simulations."
   ]
  },
  {
   "cell_type": "code",
   "execution_count": 1,
   "metadata": {},
   "outputs": [
    {
     "name": "stdout",
     "output_type": "stream",
     "text": [
      "Note: you may need to restart the kernel to use updated packages.\n"
     ]
    }
   ],
   "source": [
    "%pip install \"pybamm[plot,cite]\" -q    # install PyBaMM if it is not installed\n",
    "import pybamm\n",
    "import numpy as np"
   ]
  },
  {
   "attachments": {},
   "cell_type": "markdown",
   "metadata": {},
   "source": [
    "## String-based instructions"
   ]
  },
  {
   "attachments": {},
   "cell_type": "markdown",
   "metadata": {},
   "source": [
    "We start defining an experiment, which consists on a set of instructions on how to cycle the battery. These instructions can be defined in two different ways, but the simplest is to use strings. The instructions can be of the form `\"(Dis)charge at x A/C/W\"`, `\"Rest\"`, or `\"Hold at x V\"`. The instructions can also include how long each step should run for. The duration is introduced by the word `\"for\"` followed by the duration, e.g. `\"for 10 seconds\"`, `\"for 3 minutes\"` or `\"for 1 hour\"`. Terminating conditions can also be specified. In this case, the step will stop when that condition is met. These conditions should be a circuit state and are introduced by the word `\"until\"`, e.g. `\"until 1 A\"`, `\"until C/50\"` or `\"until 3 V\"`. Duration and termination conditions can be combined using the word `\"or\"` and the step will either finish when the condition is met or after the specified duration (whichever happens first).\n",
    "\n",
    "Some examples of experiment instructions are:\n",
    "```python\n",
    "    \"Discharge at 1C for 0.5 hours\",\n",
    "    \"Discharge at C/20 for 0.5 hours\",\n",
    "    \"Charge at 0.5 C for 45 minutes\",\n",
    "    \"Discharge at 1 A for 90 seconds\",\n",
    "    \"Charge at 200mA for 45 minutes\",\n",
    "    \"Discharge at 1 W for 0.5 hours\",\n",
    "    \"Charge at 200 mW for 45 minutes\",\n",
    "    \"Rest for 10 minutes\",\n",
    "    \"Hold at 1 V for 20 seconds\",\n",
    "    \"Charge at 1 C until 4.1V\",\n",
    "    \"Hold at 4.1 V until 50 mA\",\n",
    "    \"Hold at 3V until C/50\",\n",
    "```\n",
    "\n",
    "These steps can be concatenated in a list, so they are executed sequentially. To create an experiment, the list can then be passed when creating an `Experiment` object:"
   ]
  },
  {
   "cell_type": "code",
   "execution_count": 2,
   "metadata": {},
   "outputs": [],
   "source": [
    "experiment = pybamm.Experiment(\n",
    "    [\n",
    "        \"Discharge at C/10 for 10 hours or until 3.3 V\",\n",
    "        \"Rest for 1 hour\",\n",
    "        \"Charge at 1 A until 4.1 V\",\n",
    "        \"Hold at 4.1 V until 50 mA\",\n",
    "        \"Rest for 1 hour\",\n",
    "    ]\n",
    ")"
   ]
  },
  {
   "attachments": {},
   "cell_type": "markdown",
   "metadata": {},
   "source": [
    "In order to reproduce real cycling conditions, often the experiments will be composed of several \"cycles\", where a cycle is a user-defined collection of steps. In PyBaMM, we can define a cycle as a tuple of steps, which means that we can process the solution in terms of cycles. For more information on this functionality, please see the [long experiments notebook](../simulations_and_experiments/simulating-long-experiments.ipynb). We can also leverage the list addition and multiplication operators to combine and repeat cycles. For example, if we want a three cycles of constant current C/10 discharge, a one hour rest, a constant current (1 A) constant voltage (4.1 V) and another one hour rest, followed by a cycle of 1C discharge we can write:\n"
   ]
  },
  {
   "cell_type": "code",
   "execution_count": 3,
   "metadata": {},
   "outputs": [],
   "source": [
    "experiment = pybamm.Experiment(\n",
    "    [\n",
    "        (\n",
    "            \"Discharge at C/10 for 10 hours or until 3.3 V\",\n",
    "            \"Rest for 1 hour\",\n",
    "            \"Charge at 1 A until 4.1 V\",\n",
    "            \"Hold at 4.1 V until 50 mA\",\n",
    "            \"Rest for 1 hour\",\n",
    "        )\n",
    "    ]\n",
    "    * 3\n",
    "    + [\n",
    "        \"Discharge at 1C until 3.3 V\",\n",
    "    ]\n",
    ")"
   ]
  },
  {
   "cell_type": "markdown",
   "metadata": {},
   "source": [
    "Note that if a cycle is made of one step only (like the 1C discharge) we do not need to define it as a tuple. One key difference between cycles and steps, is that PyBaMM allows for steps to be skipped (e.g. if you try to charge an a fully charged battery) but not cycles.\n",
    "\n",
    "Then we can choose our model and create our simulation, passing our experiment using a keyword argument"
   ]
  },
  {
   "cell_type": "code",
   "execution_count": 4,
   "metadata": {},
   "outputs": [],
   "source": [
    "model = pybamm.lithium_ion.DFN()\n",
    "sim = pybamm.Simulation(model, experiment=experiment)"
   ]
  },
  {
   "attachments": {},
   "cell_type": "markdown",
   "metadata": {},
   "source": [
    "We then solve and plot the solution"
   ]
  },
  {
   "cell_type": "code",
   "execution_count": 5,
   "metadata": {},
   "outputs": [
    {
     "name": "stderr",
     "output_type": "stream",
     "text": [
      "At t = 339.952 and h = 1.4337e-18, the corrector convergence failed repeatedly or with |h| = hmin.\n",
      "At t = 522.687 and h = 4.04917e-14, the corrector convergence failed repeatedly or with |h| = hmin.\n"
     ]
    },
    {
     "data": {
      "application/vnd.jupyter.widget-view+json": {
       "model_id": "93e578b73d4f4c6e9bdc0dbef0d64e56",
       "version_major": 2,
       "version_minor": 0
      },
      "text/plain": [
       "interactive(children=(FloatSlider(value=0.0, description='t', max=40.13268704803602, step=0.4013268704803602),…"
      ]
     },
     "metadata": {},
     "output_type": "display_data"
    },
    {
     "data": {
      "text/plain": [
       "<pybamm.plotting.quick_plot.QuickPlot at 0x16a317290>"
      ]
     },
     "execution_count": 5,
     "metadata": {},
     "output_type": "execute_result"
    }
   ],
   "source": [
    "sim.solve()\n",
    "sim.plot()"
   ]
  },
  {
   "cell_type": "markdown",
   "metadata": {},
   "source": [
    "The `solution` variable in the `simulation` object has a `cycles` variable that allows to access the solution for a specific cycle. That solution can be processed and plotted as usual. For example, if we want to plot the first cycle only we can do "
   ]
  },
  {
   "cell_type": "code",
   "execution_count": 6,
   "metadata": {},
   "outputs": [
    {
     "data": {
      "application/vnd.jupyter.widget-view+json": {
       "model_id": "2b9477f873cc46318181bf355bdcc15b",
       "version_major": 2,
       "version_minor": 0
      },
      "text/plain": [
       "interactive(children=(FloatSlider(value=0.0, description='t', max=13.076887099589111, step=0.1307688709958911)…"
      ]
     },
     "metadata": {},
     "output_type": "display_data"
    },
    {
     "data": {
      "text/plain": [
       "<pybamm.plotting.quick_plot.QuickPlot at 0x1770af150>"
      ]
     },
     "execution_count": 6,
     "metadata": {},
     "output_type": "execute_result"
    }
   ],
   "source": [
    "sim.solution.cycles[0].plot()"
   ]
  },
  {
   "attachments": {},
   "cell_type": "markdown",
   "metadata": {},
   "source": [
    "Note that because `sol.cycles` is a list, the indexing starts at 0.\n",
    "\n",
    "As we will see in the next section, we can pass additional arguments such as a period, temperature, or tags when defining a step. The method `pybamm.step.string` can be used to add these additional conditions to a string-defined step:"
   ]
  },
  {
   "cell_type": "code",
   "execution_count": 7,
   "metadata": {},
   "outputs": [
    {
     "data": {
      "text/plain": [
       "Step(1.0, duration=1 hour, period=1 minute, temperature=25oC, tags=['tag1'], description=Discharge at 1C for 1 hour, direction=Discharge)"
      ]
     },
     "execution_count": 7,
     "metadata": {},
     "output_type": "execute_result"
    }
   ],
   "source": [
    "pybamm.step.string(\n",
    "    \"Discharge at 1C for 1 hour\", period=\"1 minute\", temperature=\"25oC\", tags=[\"tag1\"]\n",
    ")"
   ]
  },
  {
   "attachments": {},
   "cell_type": "markdown",
   "metadata": {},
   "source": [
    "## Direct instructions"
   ]
  },
  {
   "attachments": {},
   "cell_type": "markdown",
   "metadata": {},
   "source": [
    "Experiments can also be specified programmatically without having to use string formatting. For example,"
   ]
  },
  {
   "cell_type": "code",
   "execution_count": 8,
   "metadata": {},
   "outputs": [
    {
     "data": {
      "text/plain": [
       "Step(1, duration=1 hour, termination=2.5 V, direction=Discharge)"
      ]
     },
     "execution_count": 8,
     "metadata": {},
     "output_type": "execute_result"
    }
   ],
   "source": [
    "pybamm.step.current(1, duration=\"1 hour\", termination=\"2.5 V\")"
   ]
  },
  {
   "attachments": {},
   "cell_type": "markdown",
   "metadata": {},
   "source": [
    "is equivalent to "
   ]
  },
  {
   "cell_type": "code",
   "execution_count": 9,
   "metadata": {},
   "outputs": [
    {
     "data": {
      "text/plain": [
       "Step(1.0, duration=1 hour, termination=2.5V, description=Discharge at 1A for 1 hour or until 2.5V, direction=Discharge)"
      ]
     },
     "execution_count": 9,
     "metadata": {},
     "output_type": "execute_result"
    }
   ],
   "source": [
    "pybamm.step.string(\"Discharge at 1A for 1 hour or until 2.5V\")"
   ]
  },
  {
   "attachments": {},
   "cell_type": "markdown",
   "metadata": {},
   "source": [
    "The available methods are `current`, `c_rate`, `voltage`, `power`, and `resistance`. These methods also take optional keyword arguments, such as the period, temperature, tags or starting times (a complete list can be found in [the documentation](https://docs.pybamm.org/en/stable/source/api/experiment/experiment_steps.html)).\n",
    "\n",
    "These methods can also be used for drive cycles. In this case, the `value` argument should be a 2-column array, where the first column is time in seconds (should start at zero) and the second column the values (i.e. current, voltage, power...). Here is an example for a synthetically defined drive cycle:"
   ]
  },
  {
   "cell_type": "code",
   "execution_count": 10,
   "metadata": {},
   "outputs": [
    {
     "name": "stderr",
     "output_type": "stream",
     "text": [
      "At t = 24.4667 and h = 6.99222e-21, the corrector convergence failed repeatedly or with |h| = hmin.\n",
      "At t = 24.4668 and h = 1.57029e-19, the corrector convergence failed repeatedly or with |h| = hmin.\n",
      "At t = 24.4667 and h = 7.74367e-18, the corrector convergence failed repeatedly or with |h| = hmin.\n",
      "At t = 24.4668 and h = 1.97768e-19, the corrector convergence failed repeatedly or with |h| = hmin.\n",
      "At t = 24.4667 and h = 4.9374e-17, the corrector convergence failed repeatedly or with |h| = hmin.\n",
      "At t = 5.72088 and h = 6.43077e-17, the corrector convergence failed repeatedly or with |h| = hmin.\n",
      "At t = 5.7209 and h = 2.06279e-16, the corrector convergence failed repeatedly or with |h| = hmin.\n",
      "At t = 5.5352 and h = 1.1935e-09, the corrector convergence failed repeatedly or with |h| = hmin.\n",
      "At t = 5.72091 and h = 1.2006e-20, the corrector convergence failed repeatedly or with |h| = hmin.\n",
      "At t = 5.72092 and h = 9.64552e-19, the corrector convergence failed repeatedly or with |h| = hmin.\n",
      "At t = 5.55048 and h = 3.86137e-10, the corrector convergence failed repeatedly or with |h| = hmin.\n",
      "2024-07-10 14:24:05.800 - [ERROR] callbacks.on_experiment_error(233): Simulation error: Maximum number of decreased steps occurred at t=18.74576271186441 (final SolverError: 'Error in Function::call for 'F' [IdasInterface] at .../casadi/core/function.cpp:1432:\n",
      "Error in Function::call for 'F' [IdasInterface] at .../casadi/core/function.cpp:361:\n",
      ".../casadi/interfaces/sundials/idas_interface.cpp:596: IDASolve returned \"IDA_CONV_FAIL\". Consult IDAS documentation.'). For a full solution try reducing dt_max (currently, dt_max=9.375) and/or reducing the size of the time steps or period of the experiment. Set `return_solution_if_failed_early=True` to return the solution object up to the point where failure occured.\n"
     ]
    },
    {
     "ename": "SolverError",
     "evalue": "Maximum number of decreased steps occurred at t=18.74576271186441 (final SolverError: 'Error in Function::call for 'F' [IdasInterface] at .../casadi/core/function.cpp:1432:\nError in Function::call for 'F' [IdasInterface] at .../casadi/core/function.cpp:361:\n.../casadi/interfaces/sundials/idas_interface.cpp:596: IDASolve returned \"IDA_CONV_FAIL\". Consult IDAS documentation.'). For a full solution try reducing dt_max (currently, dt_max=9.375) and/or reducing the size of the time steps or period of the experiment. Set `return_solution_if_failed_early=True` to return the solution object up to the point where failure occured.",
     "output_type": "error",
     "traceback": [
      "\u001b[0;31m---------------------------------------------------------------------------\u001b[0m",
      "\u001b[0;31mRuntimeError\u001b[0m                              Traceback (most recent call last)",
      "\u001b[0;32m~/Code/PyBaMM/pybamm/solvers/casadi_solver.py\u001b[0m in \u001b[0;36m?\u001b[0;34m(self, model, y0, inputs_dict, inputs, t_eval, use_grid, extract_sensitivities_in_solution)\u001b[0m\n\u001b[1;32m    682\u001b[0m                 \u001b[0;31m# If it doesn't work raise error\u001b[0m\u001b[0;34m\u001b[0m\u001b[0;34m\u001b[0m\u001b[0m\n\u001b[1;32m    683\u001b[0m                 \u001b[0mpybamm\u001b[0m\u001b[0;34m.\u001b[0m\u001b[0mlogger\u001b[0m\u001b[0;34m.\u001b[0m\u001b[0mdebug\u001b[0m\u001b[0;34m(\u001b[0m\u001b[0;34mf\"Casadi integrator failed with error {error}\"\u001b[0m\u001b[0;34m)\u001b[0m\u001b[0;34m\u001b[0m\u001b[0;34m\u001b[0m\u001b[0m\n\u001b[0;32m--> 684\u001b[0;31m                 \u001b[0;32mraise\u001b[0m \u001b[0mpybamm\u001b[0m\u001b[0;34m.\u001b[0m\u001b[0mSolverError\u001b[0m\u001b[0;34m(\u001b[0m\u001b[0merror\u001b[0m\u001b[0;34m.\u001b[0m\u001b[0margs\u001b[0m\u001b[0;34m[\u001b[0m\u001b[0;36m0\u001b[0m\u001b[0;34m]\u001b[0m\u001b[0;34m)\u001b[0m \u001b[0;32mfrom\u001b[0m \u001b[0merror\u001b[0m\u001b[0;34m\u001b[0m\u001b[0;34m\u001b[0m\u001b[0m\n\u001b[0m\u001b[1;32m    685\u001b[0m             \u001b[0mpybamm\u001b[0m\u001b[0;34m.\u001b[0m\u001b[0mlogger\u001b[0m\u001b[0;34m.\u001b[0m\u001b[0mdebug\u001b[0m\u001b[0;34m(\u001b[0m\u001b[0;34m\"Finished casadi integrator\"\u001b[0m\u001b[0;34m)\u001b[0m\u001b[0;34m\u001b[0m\u001b[0;34m\u001b[0m\u001b[0m\n",
      "\u001b[0;32m~/miniforge3/envs/pybamm/lib/python3.11/site-packages/casadi/casadi.py\u001b[0m in \u001b[0;36m?\u001b[0;34m(self, *args, **kwargs)\u001b[0m\n\u001b[1;32m  23380\u001b[0m       \u001b[0;32melse\u001b[0m\u001b[0;34m:\u001b[0m\u001b[0;34m\u001b[0m\u001b[0;34m\u001b[0m\u001b[0m\n\u001b[1;32m  23381\u001b[0m     \u001b[0;31m# Named inputs -> return dictionary\u001b[0m\u001b[0;34m\u001b[0m\u001b[0;34m\u001b[0m\u001b[0m\n\u001b[0;32m> 23382\u001b[0;31m         \u001b[0;32mreturn\u001b[0m \u001b[0mself\u001b[0m\u001b[0;34m.\u001b[0m\u001b[0mcall\u001b[0m\u001b[0;34m(\u001b[0m\u001b[0mkwargs\u001b[0m\u001b[0;34m)\u001b[0m\u001b[0;34m\u001b[0m\u001b[0;34m\u001b[0m\u001b[0m\n\u001b[0m",
      "\u001b[0;32m~/miniforge3/envs/pybamm/lib/python3.11/site-packages/casadi/casadi.py\u001b[0m in \u001b[0;36m?\u001b[0;34m(self, *args)\u001b[0m\n\u001b[1;32m  20029\u001b[0m \u001b[0;34m\u001b[0m\u001b[0m\n\u001b[1;32m  20030\u001b[0m         \"\"\"\n\u001b[0;32m> 20031\u001b[0;31m         \u001b[0;32mreturn\u001b[0m \u001b[0m_casadi\u001b[0m\u001b[0;34m.\u001b[0m\u001b[0mFunction_call\u001b[0m\u001b[0;34m(\u001b[0m\u001b[0mself\u001b[0m\u001b[0;34m,\u001b[0m \u001b[0;34m*\u001b[0m\u001b[0margs\u001b[0m\u001b[0;34m)\u001b[0m\u001b[0;34m\u001b[0m\u001b[0;34m\u001b[0m\u001b[0m\n\u001b[0m",
      "\u001b[0;31mRuntimeError\u001b[0m: Error in Function::call for 'F' [IdasInterface] at .../casadi/core/function.cpp:1432:\nError in Function::call for 'F' [IdasInterface] at .../casadi/core/function.cpp:361:\n.../casadi/interfaces/sundials/idas_interface.cpp:596: IDASolve returned \"IDA_CONV_FAIL\". Consult IDAS documentation.",
      "\nThe above exception was the direct cause of the following exception:\n",
      "\u001b[0;31mSolverError\u001b[0m                               Traceback (most recent call last)",
      "File \u001b[0;32m~/Code/PyBaMM/pybamm/solvers/casadi_solver.py:245\u001b[0m, in \u001b[0;36mCasadiSolver._integrate\u001b[0;34m(self, model, t_eval, inputs_dict)\u001b[0m\n\u001b[1;32m    241\u001b[0m pybamm\u001b[38;5;241m.\u001b[39mlogger\u001b[38;5;241m.\u001b[39mdebug(\n\u001b[1;32m    242\u001b[0m     \u001b[38;5;124m\"\u001b[39m\u001b[38;5;124mRunning integrator for \u001b[39m\u001b[38;5;124m\"\u001b[39m\n\u001b[1;32m    243\u001b[0m     \u001b[38;5;124mf\u001b[39m\u001b[38;5;124m\"\u001b[39m\u001b[38;5;132;01m{\u001b[39;00mt_window[\u001b[38;5;241m0\u001b[39m]\u001b[38;5;132;01m:\u001b[39;00m\u001b[38;5;124m.2f\u001b[39m\u001b[38;5;132;01m}\u001b[39;00m\u001b[38;5;124m < t < \u001b[39m\u001b[38;5;132;01m{\u001b[39;00mt_window[\u001b[38;5;241m-\u001b[39m\u001b[38;5;241m1\u001b[39m]\u001b[38;5;132;01m:\u001b[39;00m\u001b[38;5;124m.2f\u001b[39m\u001b[38;5;132;01m}\u001b[39;00m\u001b[38;5;124m\"\u001b[39m\n\u001b[1;32m    244\u001b[0m )\n\u001b[0;32m--> 245\u001b[0m current_step_sol \u001b[38;5;241m=\u001b[39m \u001b[38;5;28;43mself\u001b[39;49m\u001b[38;5;241;43m.\u001b[39;49m\u001b[43m_run_integrator\u001b[49m\u001b[43m(\u001b[49m\n\u001b[1;32m    246\u001b[0m \u001b[43m    \u001b[49m\u001b[43mmodel\u001b[49m\u001b[43m,\u001b[49m\n\u001b[1;32m    247\u001b[0m \u001b[43m    \u001b[49m\u001b[43my0\u001b[49m\u001b[43m,\u001b[49m\n\u001b[1;32m    248\u001b[0m \u001b[43m    \u001b[49m\u001b[43minputs_dict\u001b[49m\u001b[43m,\u001b[49m\n\u001b[1;32m    249\u001b[0m \u001b[43m    \u001b[49m\u001b[43minputs\u001b[49m\u001b[43m,\u001b[49m\n\u001b[1;32m    250\u001b[0m \u001b[43m    \u001b[49m\u001b[43mt_window\u001b[49m\u001b[43m,\u001b[49m\n\u001b[1;32m    251\u001b[0m \u001b[43m    \u001b[49m\u001b[43muse_grid\u001b[49m\u001b[38;5;241;43m=\u001b[39;49m\u001b[43muse_grid\u001b[49m\u001b[43m,\u001b[49m\n\u001b[1;32m    252\u001b[0m \u001b[43m    \u001b[49m\u001b[43mextract_sensitivities_in_solution\u001b[49m\u001b[38;5;241;43m=\u001b[39;49m\u001b[38;5;28;43;01mFalse\u001b[39;49;00m\u001b[43m,\u001b[49m\n\u001b[1;32m    253\u001b[0m \u001b[43m\u001b[49m\u001b[43m)\u001b[49m\n\u001b[1;32m    254\u001b[0m first_ts_solved \u001b[38;5;241m=\u001b[39m \u001b[38;5;28;01mTrue\u001b[39;00m\n",
      "File \u001b[0;32m~/Code/PyBaMM/pybamm/solvers/casadi_solver.py:684\u001b[0m, in \u001b[0;36mCasadiSolver._run_integrator\u001b[0;34m(self, model, y0, inputs_dict, inputs, t_eval, use_grid, extract_sensitivities_in_solution)\u001b[0m\n\u001b[1;32m    683\u001b[0m     pybamm\u001b[38;5;241m.\u001b[39mlogger\u001b[38;5;241m.\u001b[39mdebug(\u001b[38;5;124mf\u001b[39m\u001b[38;5;124m\"\u001b[39m\u001b[38;5;124mCasadi integrator failed with error \u001b[39m\u001b[38;5;132;01m{\u001b[39;00merror\u001b[38;5;132;01m}\u001b[39;00m\u001b[38;5;124m\"\u001b[39m)\n\u001b[0;32m--> 684\u001b[0m     \u001b[38;5;28;01mraise\u001b[39;00m pybamm\u001b[38;5;241m.\u001b[39mSolverError(error\u001b[38;5;241m.\u001b[39margs[\u001b[38;5;241m0\u001b[39m]) \u001b[38;5;28;01mfrom\u001b[39;00m \u001b[38;5;21;01merror\u001b[39;00m\n\u001b[1;32m    685\u001b[0m pybamm\u001b[38;5;241m.\u001b[39mlogger\u001b[38;5;241m.\u001b[39mdebug(\u001b[38;5;124m\"\u001b[39m\u001b[38;5;124mFinished casadi integrator\u001b[39m\u001b[38;5;124m\"\u001b[39m)\n",
      "\u001b[0;31mSolverError\u001b[0m: Error in Function::call for 'F' [IdasInterface] at .../casadi/core/function.cpp:1432:\nError in Function::call for 'F' [IdasInterface] at .../casadi/core/function.cpp:361:\n.../casadi/interfaces/sundials/idas_interface.cpp:596: IDASolve returned \"IDA_CONV_FAIL\". Consult IDAS documentation.",
      "\nThe above exception was the direct cause of the following exception:\n",
      "\u001b[0;31mSolverError\u001b[0m                               Traceback (most recent call last)",
      "Cell \u001b[0;32mIn[10], line 6\u001b[0m\n\u001b[1;32m      4\u001b[0m experiment \u001b[38;5;241m=\u001b[39m pybamm\u001b[38;5;241m.\u001b[39mExperiment([pybamm\u001b[38;5;241m.\u001b[39mstep\u001b[38;5;241m.\u001b[39mpower(drive_cycle_power)])\n\u001b[1;32m      5\u001b[0m sim \u001b[38;5;241m=\u001b[39m pybamm\u001b[38;5;241m.\u001b[39mSimulation(model, experiment\u001b[38;5;241m=\u001b[39mexperiment)\n\u001b[0;32m----> 6\u001b[0m \u001b[43msim\u001b[49m\u001b[38;5;241;43m.\u001b[39;49m\u001b[43msolve\u001b[49m\u001b[43m(\u001b[49m\u001b[43m)\u001b[49m\n\u001b[1;32m      7\u001b[0m sim\u001b[38;5;241m.\u001b[39mplot()\n",
      "File \u001b[0;32m~/Code/PyBaMM/pybamm/simulation.py:715\u001b[0m, in \u001b[0;36mSimulation.solve\u001b[0;34m(self, t_eval, solver, save_at_cycles, calc_esoh, starting_solution, initial_soc, callbacks, showprogress, inputs, **kwargs)\u001b[0m\n\u001b[1;32m    713\u001b[0m \u001b[38;5;66;03m# If none of the cycles worked, raise an error\u001b[39;00m\n\u001b[1;32m    714\u001b[0m \u001b[38;5;28;01mif\u001b[39;00m cycle_num \u001b[38;5;241m==\u001b[39m \u001b[38;5;241m1\u001b[39m \u001b[38;5;129;01mand\u001b[39;00m step_num \u001b[38;5;241m==\u001b[39m \u001b[38;5;241m1\u001b[39m:\n\u001b[0;32m--> 715\u001b[0m     \u001b[38;5;28;01mraise\u001b[39;00m error\n\u001b[1;32m    716\u001b[0m \u001b[38;5;66;03m# Otherwise, just stop this cycle\u001b[39;00m\n\u001b[1;32m    717\u001b[0m \u001b[38;5;28;01mbreak\u001b[39;00m\n",
      "File \u001b[0;32m~/Code/PyBaMM/pybamm/simulation.py:692\u001b[0m, in \u001b[0;36mSimulation.solve\u001b[0;34m(self, t_eval, solver, save_at_cycles, calc_esoh, starting_solution, initial_soc, callbacks, showprogress, inputs, **kwargs)\u001b[0m\n\u001b[1;32m    690\u001b[0m npts \u001b[38;5;241m=\u001b[39m \u001b[38;5;28mmax\u001b[39m(\u001b[38;5;28mint\u001b[39m(\u001b[38;5;28mround\u001b[39m(dt \u001b[38;5;241m/\u001b[39m step\u001b[38;5;241m.\u001b[39mperiod)) \u001b[38;5;241m+\u001b[39m \u001b[38;5;241m1\u001b[39m, \u001b[38;5;241m2\u001b[39m)\n\u001b[1;32m    691\u001b[0m \u001b[38;5;28;01mtry\u001b[39;00m:\n\u001b[0;32m--> 692\u001b[0m     step_solution \u001b[38;5;241m=\u001b[39m \u001b[43msolver\u001b[49m\u001b[38;5;241;43m.\u001b[39;49m\u001b[43mstep\u001b[49m\u001b[43m(\u001b[49m\n\u001b[1;32m    693\u001b[0m \u001b[43m        \u001b[49m\u001b[43mcurrent_solution\u001b[49m\u001b[43m,\u001b[49m\n\u001b[1;32m    694\u001b[0m \u001b[43m        \u001b[49m\u001b[43mmodel\u001b[49m\u001b[43m,\u001b[49m\n\u001b[1;32m    695\u001b[0m \u001b[43m        \u001b[49m\u001b[43mdt\u001b[49m\u001b[43m,\u001b[49m\n\u001b[1;32m    696\u001b[0m \u001b[43m        \u001b[49m\u001b[43mt_eval\u001b[49m\u001b[38;5;241;43m=\u001b[39;49m\u001b[43mnp\u001b[49m\u001b[38;5;241;43m.\u001b[39;49m\u001b[43mlinspace\u001b[49m\u001b[43m(\u001b[49m\u001b[38;5;241;43m0\u001b[39;49m\u001b[43m,\u001b[49m\u001b[43m \u001b[49m\u001b[43mdt\u001b[49m\u001b[43m,\u001b[49m\u001b[43m \u001b[49m\u001b[43mnpts\u001b[49m\u001b[43m)\u001b[49m\u001b[43m,\u001b[49m\n\u001b[1;32m    697\u001b[0m \u001b[43m        \u001b[49m\u001b[43msave\u001b[49m\u001b[38;5;241;43m=\u001b[39;49m\u001b[38;5;28;43;01mFalse\u001b[39;49;00m\u001b[43m,\u001b[49m\n\u001b[1;32m    698\u001b[0m \u001b[43m        \u001b[49m\u001b[43minputs\u001b[49m\u001b[38;5;241;43m=\u001b[39;49m\u001b[43minputs\u001b[49m\u001b[43m,\u001b[49m\n\u001b[1;32m    699\u001b[0m \u001b[43m        \u001b[49m\u001b[38;5;241;43m*\u001b[39;49m\u001b[38;5;241;43m*\u001b[39;49m\u001b[43mkwargs\u001b[49m\u001b[43m,\u001b[49m\n\u001b[1;32m    700\u001b[0m \u001b[43m    \u001b[49m\u001b[43m)\u001b[49m\n\u001b[1;32m    701\u001b[0m \u001b[38;5;28;01mexcept\u001b[39;00m pybamm\u001b[38;5;241m.\u001b[39mSolverError \u001b[38;5;28;01mas\u001b[39;00m error:\n\u001b[1;32m    702\u001b[0m     \u001b[38;5;28;01mif\u001b[39;00m (\n\u001b[1;32m    703\u001b[0m         \u001b[38;5;124m\"\u001b[39m\u001b[38;5;124mnon-positive at initial conditions\u001b[39m\u001b[38;5;124m\"\u001b[39m \u001b[38;5;129;01min\u001b[39;00m error\u001b[38;5;241m.\u001b[39mmessage\n\u001b[1;32m    704\u001b[0m         \u001b[38;5;129;01mand\u001b[39;00m \u001b[38;5;124m\"\u001b[39m\u001b[38;5;124m[experiment]\u001b[39m\u001b[38;5;124m\"\u001b[39m \u001b[38;5;129;01min\u001b[39;00m error\u001b[38;5;241m.\u001b[39mmessage\n\u001b[1;32m    705\u001b[0m     ):\n",
      "File \u001b[0;32m~/Code/PyBaMM/pybamm/solvers/base_solver.py:1247\u001b[0m, in \u001b[0;36mBaseSolver.step\u001b[0;34m(self, old_solution, model, dt, t_eval, npts, inputs, save)\u001b[0m\n\u001b[1;32m   1245\u001b[0m pybamm\u001b[38;5;241m.\u001b[39mlogger\u001b[38;5;241m.\u001b[39mverbose(\u001b[38;5;124mf\u001b[39m\u001b[38;5;124m\"\u001b[39m\u001b[38;5;124mStepping for \u001b[39m\u001b[38;5;132;01m{\u001b[39;00mt_start_shifted\u001b[38;5;132;01m:\u001b[39;00m\u001b[38;5;124m.0f\u001b[39m\u001b[38;5;132;01m}\u001b[39;00m\u001b[38;5;124m < t < \u001b[39m\u001b[38;5;132;01m{\u001b[39;00mt_end\u001b[38;5;132;01m:\u001b[39;00m\u001b[38;5;124m.0f\u001b[39m\u001b[38;5;132;01m}\u001b[39;00m\u001b[38;5;124m\"\u001b[39m)\n\u001b[1;32m   1246\u001b[0m timer\u001b[38;5;241m.\u001b[39mreset()\n\u001b[0;32m-> 1247\u001b[0m solution \u001b[38;5;241m=\u001b[39m \u001b[38;5;28;43mself\u001b[39;49m\u001b[38;5;241;43m.\u001b[39;49m\u001b[43m_integrate\u001b[49m\u001b[43m(\u001b[49m\u001b[43mmodel\u001b[49m\u001b[43m,\u001b[49m\u001b[43m \u001b[49m\u001b[43mt_eval\u001b[49m\u001b[43m,\u001b[49m\u001b[43m \u001b[49m\u001b[43mmodel_inputs\u001b[49m\u001b[43m)\u001b[49m\n\u001b[1;32m   1248\u001b[0m solution\u001b[38;5;241m.\u001b[39msolve_time \u001b[38;5;241m=\u001b[39m timer\u001b[38;5;241m.\u001b[39mtime()\n\u001b[1;32m   1250\u001b[0m \u001b[38;5;66;03m# Check if extrapolation occurred\u001b[39;00m\n",
      "File \u001b[0;32m~/Code/PyBaMM/pybamm/solvers/casadi_solver.py:282\u001b[0m, in \u001b[0;36mCasadiSolver._integrate\u001b[0;34m(self, model, t_eval, inputs_dict)\u001b[0m\n\u001b[1;32m    280\u001b[0m                 \u001b[38;5;28;01mbreak\u001b[39;00m\n\u001b[1;32m    281\u001b[0m             \u001b[38;5;28;01melse\u001b[39;00m:\n\u001b[0;32m--> 282\u001b[0m                 \u001b[38;5;28;01mraise\u001b[39;00m pybamm\u001b[38;5;241m.\u001b[39mSolverError(\n\u001b[1;32m    283\u001b[0m                     message\n\u001b[1;32m    284\u001b[0m                     \u001b[38;5;241m+\u001b[39m \u001b[38;5;124m\"\u001b[39m\u001b[38;5;124m Set `return_solution_if_failed_early=True` to \u001b[39m\u001b[38;5;124m\"\u001b[39m\n\u001b[1;32m    285\u001b[0m                     \u001b[38;5;124m\"\u001b[39m\u001b[38;5;124mreturn the solution object up to the point where \u001b[39m\u001b[38;5;124m\"\u001b[39m\n\u001b[1;32m    286\u001b[0m                     \u001b[38;5;124m\"\u001b[39m\u001b[38;5;124mfailure occured.\u001b[39m\u001b[38;5;124m\"\u001b[39m\n\u001b[1;32m    287\u001b[0m                 ) \u001b[38;5;28;01mfrom\u001b[39;00m \u001b[38;5;21;01merror\u001b[39;00m\n\u001b[1;32m    288\u001b[0m \u001b[38;5;28;01mif\u001b[39;00m termination_due_to_small_dt:\n\u001b[1;32m    289\u001b[0m     \u001b[38;5;28;01mbreak\u001b[39;00m\n",
      "\u001b[0;31mSolverError\u001b[0m: Maximum number of decreased steps occurred at t=18.74576271186441 (final SolverError: 'Error in Function::call for 'F' [IdasInterface] at .../casadi/core/function.cpp:1432:\nError in Function::call for 'F' [IdasInterface] at .../casadi/core/function.cpp:361:\n.../casadi/interfaces/sundials/idas_interface.cpp:596: IDASolve returned \"IDA_CONV_FAIL\". Consult IDAS documentation.'). For a full solution try reducing dt_max (currently, dt_max=9.375) and/or reducing the size of the time steps or period of the experiment. Set `return_solution_if_failed_early=True` to return the solution object up to the point where failure occured."
     ]
    }
   ],
   "source": [
    "t = np.linspace(0, 1, 60)\n",
    "sin_t = 0.5 * np.sin(2 * np.pi * t)\n",
    "drive_cycle_power = np.column_stack([t, sin_t])\n",
    "experiment = pybamm.Experiment([pybamm.step.power(drive_cycle_power)])\n",
    "sim = pybamm.Simulation(model, experiment=experiment)\n",
    "sim.solve()\n",
    "sim.plot()"
   ]
  },
  {
   "attachments": {},
   "cell_type": "markdown",
   "metadata": {},
   "source": [
    "For a drive cycle, the duration is until the final time provided and the period is the smallest time step. For best results, we recommend using a constant time step size."
   ]
  },
  {
   "attachments": {},
   "cell_type": "markdown",
   "metadata": {},
   "source": [
    "In this notebook we have seen how to use the Experiment class to run simulations of more complex operating conditions. In [Tutorial 6](./tutorial-6-managing-simulation-outputs.ipynb) we will see how to manage the outputs of the simulation."
   ]
  },
  {
   "attachments": {},
   "cell_type": "markdown",
   "metadata": {},
   "source": [
    "## References\n",
    "\n",
    "The relevant papers for this notebook are:"
   ]
  },
  {
   "cell_type": "code",
   "execution_count": null,
   "metadata": {},
   "outputs": [
    {
     "name": "stdout",
     "output_type": "stream",
     "text": [
      "[1] Joel A. E. Andersson, Joris Gillis, Greg Horn, James B. Rawlings, and Moritz Diehl. CasADi – A software framework for nonlinear optimization and optimal control. Mathematical Programming Computation, 11(1):1–36, 2019. doi:10.1007/s12532-018-0139-4.\n",
      "[2] Marc Doyle, Thomas F. Fuller, and John Newman. Modeling of galvanostatic charge and discharge of the lithium/polymer/insertion cell. Journal of the Electrochemical society, 140(6):1526–1533, 1993. doi:10.1149/1.2221597.\n",
      "[3] Charles R. Harris, K. Jarrod Millman, Stéfan J. van der Walt, Ralf Gommers, Pauli Virtanen, David Cournapeau, Eric Wieser, Julian Taylor, Sebastian Berg, Nathaniel J. Smith, and others. Array programming with NumPy. Nature, 585(7825):357–362, 2020. doi:10.1038/s41586-020-2649-2.\n",
      "[4] Scott G. Marquis, Valentin Sulzer, Robert Timms, Colin P. Please, and S. Jon Chapman. An asymptotic derivation of a single particle model with electrolyte. Journal of The Electrochemical Society, 166(15):A3693–A3706, 2019. doi:10.1149/2.0341915jes.\n",
      "[5] Peyman Mohtat, Suhak Lee, Jason B Siegel, and Anna G Stefanopoulou. Towards better estimability of electrode-specific state of health: decoding the cell expansion. Journal of Power Sources, 427:101–111, 2019.\n",
      "[6] Valentin Sulzer, Scott G. Marquis, Robert Timms, Martin Robinson, and S. Jon Chapman. Python Battery Mathematical Modelling (PyBaMM). Journal of Open Research Software, 9(1):14, 2021. doi:10.5334/jors.309.\n",
      "[7] Pauli Virtanen, Ralf Gommers, Travis E. Oliphant, Matt Haberland, Tyler Reddy, David Cournapeau, Evgeni Burovski, Pearu Peterson, Warren Weckesser, Jonathan Bright, and others. SciPy 1.0: fundamental algorithms for scientific computing in Python. Nature Methods, 17(3):261–272, 2020. doi:10.1038/s41592-019-0686-2.\n",
      "[8] Andrew Weng, Jason B Siegel, and Anna Stefanopoulou. Differential voltage analysis for battery manufacturing process control. arXiv preprint arXiv:2303.07088, 2023.\n",
      "\n"
     ]
    }
   ],
   "source": [
    "pybamm.print_citations()"
   ]
  }
 ],
 "metadata": {
  "kernelspec": {
   "display_name": "Python 3 (ipykernel)",
   "language": "python",
   "name": "python3"
  },
  "language_info": {
   "codemirror_mode": {
    "name": "ipython",
    "version": 3
   },
   "file_extension": ".py",
   "mimetype": "text/x-python",
   "name": "python",
   "nbconvert_exporter": "python",
   "pygments_lexer": "ipython3",
   "version": "3.11.8"
  },
  "toc": {
   "base_numbering": 1,
   "nav_menu": {},
   "number_sections": true,
   "sideBar": true,
   "skip_h1_title": false,
   "title_cell": "Table of Contents",
   "title_sidebar": "Contents",
   "toc_cell": false,
   "toc_position": {},
   "toc_section_display": true,
   "toc_window_display": true
  }
 },
 "nbformat": 4,
 "nbformat_minor": 4
}

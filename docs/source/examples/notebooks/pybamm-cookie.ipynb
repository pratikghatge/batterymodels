{
 "cells": [
  {
   "cell_type": "markdown",
   "id": "19054694-af84-4b0d-b823-4a78ef3ad3c1",
   "metadata": {},
   "source": [
    "# Installing and using pybamm-cookie for battery modelling projects"
   ]
  },
  {
   "cell_type": "code",
   "execution_count": null,
   "id": "26608d11-cd4e-4ba5-9bf5-3ed3008fb441",
   "metadata": {},
   "outputs": [],
   "source": []
  }
 ],
 "metadata": {
  "kernelspec": {
   "display_name": "Python 3 (ipykernel)",
   "language": "python",
   "name": "python3"
  },
  "language_info": {
   "codemirror_mode": {
    "name": "ipython",
    "version": 3
   },
   "file_extension": ".py",
   "mimetype": "text/x-python",
   "name": "python",
   "nbconvert_exporter": "python",
   "pygments_lexer": "ipython3",
   "version": "3.12.6"
  }
 },
 "nbformat": 4,
 "nbformat_minor": 5
}

{
 "cells": [
  {
   "cell_type": "markdown",
   "metadata": {},
   "source": [
    "# 3. Wrapping a model into a class - the Single Particle Model\n",
    "\n",
    "In the previous notebooks we learnt how to build models using PyBaMM. We implemented them directly in a notebook, which is very useful when building the model for the first time, but not so much if we want to use the model often or share it with other people. In these cases, it is better to wrap the model into a class. \n",
    "\n",
    "A [Python class](https://docs.python.org/3/tutorial/classes.html) is a \"blueprint\" to create an object. A Python object is a special variable that contain data (variables) and methods (functions) that can manipulate this data. In our case, the object will be a model, which we can then solve. If you are not familiar with Python classes it is worth learning about them with one of the many [online resources](https://www.w3schools.com/python/python_classes.asp), as in this notebook we will assume a basic knowledge of them.\n",
    "\n",
    "The goal for this notebook is to write the SPM for a half-cell implemented in the [previous notebook](./2-a-pde-model.ipynb) as a class."
   ]
  },
  {
   "cell_type": "markdown",
   "metadata": {},
   "source": [
    "## Setting up the model\n",
    "\n",
    "When defining the model as a class, it needs to inherit from the `pybamm.BaseModel` class. Then, the variables, parameters and equations are defined in the `__init__` method. For the half-cell SPM:"
   ]
  },
  {
   "cell_type": "code",
   "execution_count": 1,
   "metadata": {},
   "outputs": [],
   "source": [
    "import pybamm\n",
    "\n",
    "\n",
    "class BasicSPMHalfCell(pybamm.BaseModel):\n",
    "    def __init__(self, name=\"Single Particle Model\"):\n",
    "        # Initialise the parent class, mainly to define the model name\n",
    "        super().__init__(name)\n",
    "\n",
    "        ######################\n",
    "        # Variables\n",
    "        ######################\n",
    "        c_p = pybamm.Variable(\n",
    "            \"Positive particle concentration [mol.m-3]\", domain=\"positive particle\"\n",
    "        )\n",
    "\n",
    "        ######################\n",
    "        # Parameters\n",
    "        ######################\n",
    "        # constant parameters\n",
    "        D_p = pybamm.Parameter(\"Positive electrode diffusivity [m2.s-1]\")\n",
    "        R_p = pybamm.Parameter(\"Positive particle radius [m]\")\n",
    "        A = pybamm.Parameter(\"Electrode plate area [m2]\")\n",
    "        epsilon_s_p = pybamm.Parameter(\n",
    "            \"Positive electrode active material volume fraction\"\n",
    "        )\n",
    "        a_p = 3 * epsilon_s_p / R_p  # assume spherical particles\n",
    "        L_p = pybamm.Parameter(\"Positive electrode thickness [m]\")\n",
    "        T = pybamm.Parameter(\"Temperature [K]\")\n",
    "        c_p_0 = pybamm.Parameter(\n",
    "            \"Initial concentration in positive electrode [mol.m-3]\"\n",
    "        )\n",
    "        c_p_max = pybamm.Parameter(\n",
    "            \"Maximum concentration in positive electrode [mol.m-3]\"\n",
    "        )\n",
    "        k_p = pybamm.Parameter(\"Positive electrode reaction rate [m.s-1]\")\n",
    "\n",
    "        # function parameters\n",
    "        I = pybamm.FunctionParameter(\"Current function [A]\", {\"Time [s]\": pybamm.t})\n",
    "        U_p = pybamm.FunctionParameter(\n",
    "            \"Positive electrode OCV [V]\", {\"x_p\": c_p / c_p_max}\n",
    "        )\n",
    "\n",
    "        # constants\n",
    "        R = pybamm.constants.R\n",
    "        F = pybamm.constants.F\n",
    "\n",
    "        ######################\n",
    "        # Particle model\n",
    "        ######################\n",
    "        # equation\n",
    "        N = -D_p * pybamm.grad(c_p)\n",
    "        dcpdt = -pybamm.div(N)\n",
    "        self.rhs = {c_p: dcpdt}\n",
    "\n",
    "        # initial conditions\n",
    "        self.initial_conditions = {c_p: c_p_0}\n",
    "\n",
    "        # boundary conditions\n",
    "        lbc = pybamm.Scalar(0)\n",
    "        i = I / A\n",
    "        rbc = i / (a_p * F * L_p * D_p)\n",
    "        self.boundary_conditions = {\n",
    "            c_p: {\"left\": (lbc, \"Neumann\"), \"right\": (rbc, \"Neumann\")}\n",
    "        }\n",
    "\n",
    "        ######################\n",
    "        # (Some) variables\n",
    "        ######################\n",
    "        # define auxiliary expressions\n",
    "        c_p_surf = pybamm.surf(c_p)\n",
    "        j_p_0 = F * k_p * (c_p_surf * (c_p_max - c_p_surf)) ** 0.5\n",
    "        V = pybamm.surf(U_p) - 2 * R * T / F * pybamm.arcsinh(i / (a_p * L_p * j_p_0))\n",
    "\n",
    "        # define the model variables\n",
    "        self.variables = {\n",
    "            \"Positive particle concentration [mol.m-3]\": c_p,\n",
    "            \"Positive particle surface concentration [mol.m-3]\": c_p_surf,\n",
    "            \"Voltage [V]\": V,\n",
    "        }"
   ]
  },
  {
   "cell_type": "markdown",
   "metadata": {},
   "source": [
    "Now, we can generate an instance of the model by calling the class:"
   ]
  },
  {
   "cell_type": "code",
   "execution_count": 2,
   "metadata": {},
   "outputs": [],
   "source": [
    "model = BasicSPMHalfCell()"
   ]
  },
  {
   "cell_type": "markdown",
   "metadata": {},
   "source": [
    "### Default attributes (optional)\n",
    "\n",
    "What we have done so far is enough to run the model, but there are some optional extra steps we can take that will make our lives easier going forward. When a model processed by the simulation class, it uses several additional objects (e.g. geometry, solver...) that in our previous notebook we had to manually pass as keyword arguments. Quite often, we want to repeatedly use the same values for these keyword arguments, so we can define their default values when defining the model. This means that, if one of the keyword arguments is not explicitly defined in the simulation, PyBaMM will use the default ones when running the simulation.\n",
    "\n",
    "These default attributes are defined by methods in the class (e.g. `default_geometry`, `default_solver`...) and they always follow the same structure:\n",
    "\n",
    "```python3\n",
    "def default_attribute(self):\n",
    "   # insert here intermediate steps to define default\n",
    "   \n",
    "   return default \n",
    "```\n",
    "\n",
    "The default attributes need to be defined as class properties. A class property is an attribute that is computed dynamically and accessed like a regular attribute but allows additional logic to be executed when it is accessed. This is achieved using the `@property` decorator. In general we would just define them as additional class methods, but in order to not have to define the model again we can simply override the class inheriting from the previous one:"
   ]
  },
  {
   "cell_type": "code",
   "execution_count": 3,
   "metadata": {},
   "outputs": [],
   "source": [
    "import numpy as np\n",
    "\n",
    "\n",
    "class BasicSPMHalfCell(BasicSPMHalfCell):\n",
    "    def __init__(self, name=\"Single Particle Model\"):\n",
    "        # Initialise the parent class to define the model\n",
    "        super().__init__(name)\n",
    "\n",
    "    @property\n",
    "    def default_parameter_values(self):\n",
    "        def nmc_LGM50_ocp_Chen2020(sto):\n",
    "            u_eq = (\n",
    "                -0.8090 * sto\n",
    "                + 4.4875\n",
    "                - 0.0428 * np.tanh(18.5138 * (sto - 0.5542))\n",
    "                - 17.7326 * np.tanh(15.7890 * (sto - 0.3117))\n",
    "                + 17.5842 * np.tanh(15.9308 * (sto - 0.3120))\n",
    "            )\n",
    "\n",
    "            return u_eq\n",
    "\n",
    "        parameter_values = pybamm.ParameterValues(\n",
    "            {\n",
    "                \"Positive electrode diffusivity [m2.s-1]\": 4e-15,\n",
    "                \"Positive particle radius [m]\": 5.22e-06,\n",
    "                \"Positive electrode active material volume fraction\": 0.665,\n",
    "                \"Positive electrode thickness [m]\": 7.56e-05,\n",
    "                \"Temperature [K]\": 298.15,\n",
    "                \"Initial concentration in positive electrode [mol.m-3]\": 17038.0,\n",
    "                \"Maximum concentration in positive electrode [mol.m-3]\": 63104.0,\n",
    "                \"Positive electrode reaction rate [m.s-1]\": 1.1e-9,\n",
    "                \"Current function [A]\": 5,\n",
    "                \"Electrode plate area [m2]\": 0.1,\n",
    "                \"Positive electrode OCV [V]\": nmc_LGM50_ocp_Chen2020,\n",
    "            }\n",
    "        )\n",
    "\n",
    "        return parameter_values\n",
    "\n",
    "    @property\n",
    "    def default_geometry(self):\n",
    "        r = pybamm.SpatialVariable(\n",
    "            \"r\", domain=[\"positive particle\"], coord_sys=\"spherical polar\"\n",
    "        )\n",
    "        R_p = pybamm.Parameter(\"Positive particle radius [m]\")\n",
    "        geometry = {\"positive particle\": {r: {\"min\": pybamm.Scalar(0), \"max\": R_p}}}\n",
    "\n",
    "        return geometry\n",
    "\n",
    "    @property\n",
    "    def default_submesh_types(self):\n",
    "        submesh_types = {\"positive particle\": pybamm.Uniform1DSubMesh}\n",
    "        return submesh_types\n",
    "\n",
    "    @property\n",
    "    def default_var_pts(self):\n",
    "        r = pybamm.SpatialVariable(\n",
    "            \"r\", domain=[\"positive particle\"], coord_sys=\"spherical polar\"\n",
    "        )\n",
    "        var_pts = {r: 20}\n",
    "        return var_pts\n",
    "\n",
    "    @property\n",
    "    def default_spatial_methods(self):\n",
    "        spatial_methods = {\"positive particle\": pybamm.FiniteVolume()}\n",
    "        return spatial_methods\n",
    "\n",
    "    @property\n",
    "    def default_solver(self):\n",
    "        return pybamm.ScipySolver()\n",
    "\n",
    "    @property\n",
    "    def default_quick_plot_variables(self):\n",
    "        return [\n",
    "            \"Voltage [V]\",\n",
    "            \"Positive particle concentration [mol.m-3]\",\n",
    "            \"Positive particle surface concentration [mol.m-3]\",\n",
    "        ]"
   ]
  },
  {
   "cell_type": "markdown",
   "metadata": {},
   "source": [
    "## Solving the model\n",
    "\n",
    "Now, we can just create a simulation specifying the model and PyBaMM will take the default values for everything else:"
   ]
  },
  {
   "cell_type": "code",
   "execution_count": 4,
   "metadata": {},
   "outputs": [
    {
     "data": {
      "application/vnd.jupyter.widget-view+json": {
       "model_id": "3038fa3fab4a4c31826917884930992e",
       "version_major": 2,
       "version_minor": 0
      },
      "text/plain": [
       "interactive(children=(FloatSlider(value=0.0, description='t', max=1.0, step=0.01), Output()), _dom_classes=('w…"
      ]
     },
     "metadata": {},
     "output_type": "display_data"
    },
    {
     "data": {
      "text/plain": [
       "<pybamm.plotting.quick_plot.QuickPlot at 0x7f2933eff010>"
      ]
     },
     "execution_count": 4,
     "metadata": {},
     "output_type": "execute_result"
    }
   ],
   "source": [
    "model = BasicSPMHalfCell()\n",
    "sim = pybamm.Simulation(model)\n",
    "sim.solve([0, 3600])\n",
    "sim.plot()"
   ]
  },
  {
   "cell_type": "markdown",
   "metadata": {},
   "source": [
    "We obtain the same results as in the previous notebook, but we can solve the model in a much more compact notation. We can still override the defaults by passing the corresponding keyword arguments. For example, to override the parameter values:"
   ]
  },
  {
   "cell_type": "code",
   "execution_count": 5,
   "metadata": {},
   "outputs": [
    {
     "data": {
      "application/vnd.jupyter.widget-view+json": {
       "model_id": "481e2f22f3c64f1993cb93fc867aee22",
       "version_major": 2,
       "version_minor": 0
      },
      "text/plain": [
       "interactive(children=(FloatSlider(value=0.0, description='t', max=1.0, step=0.01), Output()), _dom_classes=('w…"
      ]
     },
     "metadata": {},
     "output_type": "display_data"
    },
    {
     "data": {
      "text/plain": [
       "<pybamm.plotting.quick_plot.QuickPlot at 0x7f2914e08910>"
      ]
     },
     "execution_count": 5,
     "metadata": {},
     "output_type": "execute_result"
    }
   ],
   "source": [
    "new_parameter_values = model.default_parameter_values\n",
    "new_parameter_values[\"Current function [A]\"] = 2.5\n",
    "\n",
    "model = BasicSPMHalfCell()\n",
    "sim = pybamm.Simulation(model, parameter_values=new_parameter_values)\n",
    "sim.solve([0, 3600])\n",
    "sim.plot()"
   ]
  },
  {
   "cell_type": "markdown",
   "metadata": {},
   "source": [
    "In this notebook we have shown how to wrap a PyBaMM model into a class and to define its default attributes, both of which make running the models a lot simpler and more compact. In the next notebook we will introduce some additional tricks to simplify the process, and we will build the Single Particle Model."
   ]
  },
  {
   "cell_type": "markdown",
   "metadata": {},
   "source": [
    "## References\n",
    "\n",
    "The relevant papers for this notebook are:"
   ]
  },
  {
   "cell_type": "code",
   "execution_count": 6,
   "metadata": {},
   "outputs": [
    {
     "name": "stdout",
     "output_type": "stream",
     "text": [
      "[1] Joel A. E. Andersson, Joris Gillis, Greg Horn, James B. Rawlings, and Moritz Diehl. CasADi – A software framework for nonlinear optimization and optimal control. Mathematical Programming Computation, 11(1):1–36, 2019. doi:10.1007/s12532-018-0139-4.\n",
      "[2] Charles R. Harris, K. Jarrod Millman, Stéfan J. van der Walt, Ralf Gommers, Pauli Virtanen, David Cournapeau, Eric Wieser, Julian Taylor, Sebastian Berg, Nathaniel J. Smith, and others. Array programming with NumPy. Nature, 585(7825):357–362, 2020. doi:10.1038/s41586-020-2649-2.\n",
      "[3] Valentin Sulzer, Scott G. Marquis, Robert Timms, Martin Robinson, and S. Jon Chapman. Python Battery Mathematical Modelling (PyBaMM). Journal of Open Research Software, 9(1):14, 2021. doi:10.5334/jors.309.\n",
      "[4] Pauli Virtanen, Ralf Gommers, Travis E. Oliphant, Matt Haberland, Tyler Reddy, David Cournapeau, Evgeni Burovski, Pearu Peterson, Warren Weckesser, Jonathan Bright, and others. SciPy 1.0: fundamental algorithms for scientific computing in Python. Nature Methods, 17(3):261–272, 2020. doi:10.1038/s41592-019-0686-2.\n",
      "\n"
     ]
    }
   ],
   "source": [
    "pybamm.print_citations()"
   ]
  }
 ],
 "metadata": {
  "kernelspec": {
   "display_name": "venv",
   "language": "python",
   "name": "python3"
  },
  "language_info": {
   "codemirror_mode": {
    "name": "ipython",
    "version": 3
   },
   "file_extension": ".py",
   "mimetype": "text/x-python",
   "name": "python",
   "nbconvert_exporter": "python",
   "pygments_lexer": "ipython3",
   "version": "3.11.6"
  }
 },
 "nbformat": 4,
 "nbformat_minor": 2
}

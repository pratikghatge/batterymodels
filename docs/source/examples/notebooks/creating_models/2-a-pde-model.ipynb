{
 "cells": [
  {
   "cell_type": "markdown",
   "metadata": {},
   "source": [
    "# 2. Creating a simple PDE model - Single Particle Model for a half cell\n",
    "\n",
    "In the [previous notebook](./1-an-ode-model.ipynb) we showed how to create and solve an ODE model in PyBaMM. In this notebook we show how to create and solve a partial differential equation (PDE) model. PDE models are more complex than ODEs as they include derivatives with respect two different variables (in our problems these will be a spatial variable and a time variable). Additional steps will be required to solve PDE models, like discretising the spatial domain.\n",
    "\n",
    "As an example, we consider the problem of linear diffusion on a sphere, which can be interpreted as a simplified version for the Single Particle Model for a half cell:\n",
    "\n",
    "$$\n",
    "  \\frac{\\partial c_\\mathrm{p}}{\\partial t} = \\nabla \\cdot (D_\\mathrm{p} \\nabla c_\\mathrm{p}),\n",
    "$$\n",
    "\n",
    "with the following boundary and initial conditions:\n",
    "\n",
    "$$\n",
    "  \\left.\\frac{\\partial c_\\mathrm{p}}{\\partial r}\\right\\vert_{r=0} = 0, \\quad \\left.-D_\\mathrm{p}\\frac{\\partial c_\\mathrm{p}}{\\partial r}\\right\\vert_{r=R_\\mathrm{p}} = -\\frac{i(t)}{a_\\mathrm{p} F L_\\mathrm{p}}, \\quad \\left.c_\\mathrm{p}\\right\\vert_{t=0} = c_{\\mathrm{p}0},\n",
    "$$\n",
    "\n",
    "and the following definition of the cell voltage:\n",
    "$$\n",
    "\\begin{aligned}\n",
    "V(t) &= U_\\mathrm{p}(c_\\mathrm{p}) - \\frac{2RT}{F} \\sinh^{-1} \\left( \\frac{i(t)}{a_\\mathrm{p} L_\\mathrm{p} j_{\\mathrm{p}0}} \\right),\\\\\n",
    "j_{\\mathrm{p}0} &= F k_\\mathrm{p} \\left.\\sqrt{c_\\mathrm{p} \\left(c_\\mathrm{p}^{\\max} - c_\\mathrm{p}\\right)}\\right\\vert_{r=R_\\mathrm{p}}.\n",
    "\\end{aligned}\n",
    "$$\n",
    "\n",
    "Here the model variable is the positive particle concentration $c_\\mathrm{p}$ and the voltage $V(t)$ is the output variable, where $j_{\\mathrm{p}0}$ is the exchange current density. The model has the following parameters: the lithium diffusivity $D_\\mathrm{p}$, the particle radius $R_\\mathrm{p}$, the particle surface area density $a_\\mathrm{p}$, the electrode thickness $L_\\mathrm{p}$, the initial concentration $c_{\\mathrm{p}0}$, the temperature $T$, the reaction rate $k_\\mathrm{p}$, and the maximum particle concentration $c_\\mathrm{p}^{\\max}$. The model also has the open-circuit potential $U_\\mathrm{p}$ and applied current density $i(t)$ (i.e. the applied current divided by the current collector area) as function parameters, and the Faraday constant $F$ and the universal gas constant $R$. We have used subscript $\\mathrm{p}$ throughout the model to denote the positive particle/electrode, even though in this case we only consider a half cell, to be consistent with the full cell notation we will use in future notebooks.\n",
    "\n",
    "As before, we begin by importing the PyBaMM library into this notebook:"
   ]
  },
  {
   "cell_type": "code",
   "execution_count": 1,
   "metadata": {},
   "outputs": [
    {
     "name": "stdout",
     "output_type": "stream",
     "text": [
      "\n",
      "\u001b[1m[\u001b[0m\u001b[34;49mnotice\u001b[0m\u001b[1;39;49m]\u001b[0m\u001b[39;49m A new release of pip is available: \u001b[0m\u001b[31;49m23.3.1\u001b[0m\u001b[39;49m -> \u001b[0m\u001b[32;49m24.1\u001b[0m\n",
      "\u001b[1m[\u001b[0m\u001b[34;49mnotice\u001b[0m\u001b[1;39;49m]\u001b[0m\u001b[39;49m To update, run: \u001b[0m\u001b[32;49mpip install --upgrade pip\u001b[0m\n",
      "Note: you may need to restart the kernel to use updated packages.\n"
     ]
    }
   ],
   "source": [
    "%pip install \"pybamm[plot,cite]\" -q    # install PyBaMM if it is not installed\n",
    "import pybamm"
   ]
  },
  {
   "cell_type": "markdown",
   "metadata": {},
   "source": [
    "## Setting up the model\n",
    "\n",
    "As in the previous example, we start with a [`pybamm.BaseModel`](https://docs.pybamm.org/en/stable/source/api/models/base_models/base_model.html#pybamm.BaseModel) object and define our model variables. Since we are now solving a PDE we need to tell PyBaMM the domain each variable belongs to so that it can be discretised in space in the correct way. This is done by passing the keyword argument `domain`, and in this example we choose the domain \"negative particle\". This argument is a string and we will later on define the geometry of the domain."
   ]
  },
  {
   "cell_type": "code",
   "execution_count": 2,
   "metadata": {},
   "outputs": [],
   "source": [
    "model = pybamm.BaseModel()\n",
    "\n",
    "c_p = pybamm.Variable(\n",
    "    \"Positive particle concentration [mol.m-3]\", domain=\"positive particle\"\n",
    ")"
   ]
  },
  {
   "cell_type": "markdown",
   "metadata": {},
   "source": [
    "Note that we have given our variable the (useful) name \"Positive particle concentration\", but the symbol representing this variable is simply `c_p`. As noted in the previous section, the name of the variable is arbitrary and you can choose any variable name that is most useful/meaningful to you but for the notebook we will stick to the PyBaMM convention.\n",
    "\n",
    "Next we define the parameters involved in the model:"
   ]
  },
  {
   "cell_type": "code",
   "execution_count": 3,
   "metadata": {},
   "outputs": [],
   "source": [
    "# constant parameters\n",
    "D_p = pybamm.Parameter(\"Positive electrode diffusivity [m2.s-1]\")\n",
    "R_p = pybamm.Parameter(\"Positive particle radius [m]\")\n",
    "A = pybamm.Parameter(\"Electrode plate area [m2]\")\n",
    "epsilon_s_p = pybamm.Parameter(\"Positive electrode active material volume fraction\")\n",
    "a_p = 3 * epsilon_s_p / R_p  # assume spherical particles\n",
    "L_p = pybamm.Parameter(\"Positive electrode thickness [m]\")\n",
    "T = pybamm.Parameter(\"Temperature [K]\")\n",
    "c_p_0 = pybamm.Parameter(\"Initial concentration in positive electrode [mol.m-3]\")\n",
    "c_p_max = pybamm.Parameter(\"Maximum concentration in positive electrode [mol.m-3]\")\n",
    "k_p = pybamm.Parameter(\"Positive electrode reaction rate [m.s-1]\")\n",
    "\n",
    "# function parameters\n",
    "I = pybamm.FunctionParameter(\"Current function [A]\", {\"Time [s]\": pybamm.t})\n",
    "U_p = pybamm.FunctionParameter(\"Positive electrode OCV [V]\", {\"x_p\": c_p / c_p_max})"
   ]
  },
  {
   "cell_type": "markdown",
   "metadata": {},
   "source": [
    "We do not need to define universal constants as parameters because PyBaMM has them built-in already:"
   ]
  },
  {
   "cell_type": "code",
   "execution_count": 4,
   "metadata": {},
   "outputs": [],
   "source": [
    "R = pybamm.constants.R\n",
    "F = pybamm.constants.F"
   ]
  },
  {
   "cell_type": "markdown",
   "metadata": {},
   "source": [
    "We then state out governing equations. Sometime it is useful to define intermediate quantities in order to express the governing equations more easily. In this example we define the flux, then define the rhs to be minus the divergence of the flux. The equation is then added to the dictionary `model.rhs`"
   ]
  },
  {
   "cell_type": "code",
   "execution_count": 5,
   "metadata": {},
   "outputs": [],
   "source": [
    "N = -D_p * pybamm.grad(c_p)  # define the flux\n",
    "dcpdt = -pybamm.div(N)  # define the rhs equation\n",
    "\n",
    "model.rhs = {c_p: dcpdt}  # add the equation to rhs dictionary"
   ]
  },
  {
   "cell_type": "markdown",
   "metadata": {},
   "source": [
    "Unlike ODE models, PDE models require both initial and boundary conditions. Similar to initial conditions, boundary conditions can be added using the dictionary [`model.boundary_conditions`](https://docs.pybamm.org/en/stable/source/api/models/base_models/base_model.html#pybamm.BaseModel.boundary_conditions). Boundary conditions for each variable are provided as a dictionary of the form `{side: (value, type)}`, where, in 1D, side can be \"left\" or \"right\", value is the value of the boundary conditions, and type is the type of boundary condition (at present, this can be [\"Dirichlet\"](https://en.wikipedia.org/wiki/Dirichlet_boundary_condition) or [\"Neumann\"](https://en.wikipedia.org/wiki/Neumann_boundary_condition))."
   ]
  },
  {
   "cell_type": "code",
   "execution_count": 6,
   "metadata": {},
   "outputs": [],
   "source": [
    "# initial conditions\n",
    "model.initial_conditions = {c_p: c_p_0}\n",
    "\n",
    "# boundary conditions\n",
    "lbc = pybamm.Scalar(0)\n",
    "i = I / A\n",
    "rbc = i / (a_p * F * L_p * D_p)\n",
    "model.boundary_conditions = {c_p: {\"left\": (lbc, \"Neumann\"), \"right\": (rbc, \"Neumann\")}}"
   ]
  },
  {
   "cell_type": "markdown",
   "metadata": {},
   "source": [
    "Finally, we add all the variables of interest to the [`model.variables`](https://docs.pybamm.org/en/stable/source/api/models/base_models/base_model.html#pybamm.BaseModel.variables) dictionary. In addition the concentration and voltage, we add the flux and the surface concentration. The surface value of a variable can be obtained calling the `pybamm.surf` method."
   ]
  },
  {
   "cell_type": "code",
   "execution_count": 7,
   "metadata": {},
   "outputs": [],
   "source": [
    "# define auxiliary expressions\n",
    "c_p_surf = pybamm.surf(c_p)\n",
    "j_p_0 = F * k_p * (c_p_surf * (c_p_max - c_p_surf)) ** 0.5\n",
    "V = pybamm.surf(U_p) - 2 * R * T / F * pybamm.arcsinh(i / (a_p * L_p * j_p_0))\n",
    "\n",
    "# define the model variables\n",
    "model.variables = {\n",
    "    \"Positive particle concentration [mol.m-3]\": c_p,\n",
    "    \"Positive particle surface concentration [mol.m-3]\": c_p_surf,\n",
    "    \"Voltage [V]\": V,\n",
    "}"
   ]
  },
  {
   "cell_type": "markdown",
   "metadata": {},
   "source": [
    "## Using the model\n",
    "\n",
    "Now the model is now completely defined, we can proceed to solve it. In the previous notebook, we had an ODE model so we could proceed to solve it directly. But now we have a PDE model, so we need to take some additional steps. To handle PDEs, PyBaMM uses the [method of lines](http://www.scholarpedia.org/article/Method_of_lines). In a nutshell, this method consists in replacing the continuous spatial operators with a discrete version (a step known as discretisation), which yields the discretised model. Then, the discretised model is integrated in time as we did with the ODE model.\n",
    "\n",
    "Discretising a PDE means transforming it from a continuous form, which involves variables that can change smoothly, into a discrete form, which involves variables that change in distinct steps or intervals. This process converts the continuous problem, which is typically defined over a continuous domain, into a set of algebraic equations that can be solved using numerical methods. Essentially, discretisation breaks down the PDE into a finite number of simpler equations that approximate the solution at specific points in the domain. This makes it possible to find the solution at these set points using computational techniques.\n",
    "\n",
    "To discretise a PDE we need to define a mesh and a spatial method. The mesh defines the number and position of points at which we want to compute the solution. The spatial method defines how we approximate the spatial operators (e.g. divergence, gradients...) with a discrete counterpart.\n",
    "\n",
    "### Defining a geometry\n",
    "But before discretising, we need to specify the geometry, as the model above is geometry agnostic. First, we need to define the spatial variables in a similar way to how we defined the other model variables. The relevant class is [`pybamm.SpatialVariable`](https://docs.pybamm.org/en/stable/source/api/expression_tree/independent_variable.html#pybamm.SpatialVariable):"
   ]
  },
  {
   "cell_type": "code",
   "execution_count": 8,
   "metadata": {},
   "outputs": [],
   "source": [
    "r = pybamm.SpatialVariable(\n",
    "    \"r\", domain=[\"positive particle\"], coord_sys=\"spherical polar\"\n",
    ")"
   ]
  },
  {
   "cell_type": "markdown",
   "metadata": {},
   "source": [
    "As with the positive particle concentration variable above, we give the spatial variable an informative name (`\"r\"`) but the variable is represented by `r` in the code (in this case it is a bit more confusing as the names are more similar). The domain needs to match the domain we have defined in our concentration variable, and the coordinate system can be chosen from `\"cartesian\"`, `\"cylindrical polar\"` and `\"spherical polar\"`.\n",
    "\n",
    "Now we can define the geometry on which we wish to solve the model using a nested dictionary. The first key is the domain name (here \"negative particle\") and the\n",
    "entry is a dictionary giving the limits of the domain."
   ]
  },
  {
   "cell_type": "code",
   "execution_count": 9,
   "metadata": {},
   "outputs": [],
   "source": [
    "geometry = {\"positive particle\": {r: {\"min\": pybamm.Scalar(0), \"max\": R_p}}}"
   ]
  },
  {
   "cell_type": "markdown",
   "metadata": {},
   "source": [
    "### Defining a mesh\n",
    "\n",
    "As we explained earlier, to discretise our model we first need to define a mesh. In this case we want a uniform one-dimensional mesh with 20 points. This means the solution will be computed at 20 points along the particle radius, all evenly spaced. To define the mesh, we use the [`pybamm.Mesh`](https://docs.pybamm.org/en/stable/source/api/meshes/meshes.html#pybamm.Mesh)\n",
    "class. As well as the geometry, the mesh class also takes a dictionary of submesh types (see below, for more details), and a dictionary specifying the number of mesh points for each spatial variable."
   ]
  },
  {
   "cell_type": "code",
   "execution_count": 10,
   "metadata": {},
   "outputs": [],
   "source": [
    "submesh_types = {\"positive particle\": pybamm.Uniform1DSubMesh}\n",
    "var_pts = {r: 20}"
   ]
  },
  {
   "cell_type": "markdown",
   "metadata": {},
   "source": [
    "Here we have used the [`pybamm.Uniform1DSubMesh`](https://docs.pybamm.org/en/stable/source/api/meshes/one_dimensional_submeshes.html#pybamm.Uniform1DSubMesh) class to create a uniform mesh.\n",
    "This class does not require any parameters, and so we can pass it directly to the `submesh_types` dictionary. However, many other submesh types can take additional parameters.  Example of meshes that do require parameters include the [`pybamm.Exponential1DSubMesh`](https://docs.pybamm.org/en/stable/source/api/meshes/one_dimensional_submeshes.html#pybamm.Exponential1DSubMesh) which clusters points close to one or both\n",
    "boundaries using an exponential rule. It takes a parameter which sets how closely the points are clustered together, and also lets the users select the side on which more points should be clustered. For more information on meshes, please see the [documentation](https://docs.pybamm.org/en/stable/source/api/meshes/index.html)."
   ]
  },
  {
   "cell_type": "markdown",
   "metadata": {},
   "source": [
    "### Defining the spatial methods\n",
    "\n",
    "The second component we need to discretise our model is the spatial method to use. At the moment PyBaMM has the [`pybamm.FiniteVolume`](https://docs.pybamm.org/en/latest/source/api/spatial_methods/finite_volume.html) and the [`pybamm.SpectralVolume`](https://docs.pybamm.org/en/latest/source/api/spatial_methods/spectral_volume.html) methods available. The spatial methods need to be passed as a dictionary, with the keys being the various domains and the values the method to use in each domain. In this case we only have one domain, so we simply have:"
   ]
  },
  {
   "cell_type": "code",
   "execution_count": 11,
   "metadata": {},
   "outputs": [],
   "source": [
    "spatial_methods = {\"positive particle\": pybamm.FiniteVolume()}"
   ]
  },
  {
   "cell_type": "markdown",
   "metadata": {},
   "source": [
    "### Solving the model\n",
    "\n",
    "Now we can proceed to solve the model. We first need to define the parameter values."
   ]
  },
  {
   "cell_type": "code",
   "execution_count": 12,
   "metadata": {},
   "outputs": [],
   "source": [
    "import numpy as np\n",
    "\n",
    "\n",
    "def nmc_LGM50_ocp_Chen2020(sto):\n",
    "    u_eq = (\n",
    "        -0.8090 * sto\n",
    "        + 4.4875\n",
    "        - 0.0428 * np.tanh(18.5138 * (sto - 0.5542))\n",
    "        - 17.7326 * np.tanh(15.7890 * (sto - 0.3117))\n",
    "        + 17.5842 * np.tanh(15.9308 * (sto - 0.3120))\n",
    "    )\n",
    "\n",
    "    return u_eq\n",
    "\n",
    "\n",
    "parameter_values = pybamm.ParameterValues(\n",
    "    {\n",
    "        \"Positive electrode diffusivity [m2.s-1]\": 4e-15,\n",
    "        \"Positive particle radius [m]\": 5.22e-06,\n",
    "        \"Positive electrode active material volume fraction\": 0.665,\n",
    "        \"Positive electrode thickness [m]\": 7.56e-05,\n",
    "        \"Temperature [K]\": 298.15,\n",
    "        \"Initial concentration in positive electrode [mol.m-3]\": 17038.0,\n",
    "        \"Maximum concentration in positive electrode [mol.m-3]\": 63104.0,\n",
    "        \"Positive electrode reaction rate [m.s-1]\": 1.1e-9,\n",
    "        \"Current function [A]\": 5,\n",
    "        \"Electrode plate area [m2]\": 0.1,\n",
    "        \"Positive electrode OCV [V]\": nmc_LGM50_ocp_Chen2020,\n",
    "    }\n",
    ")"
   ]
  },
  {
   "cell_type": "markdown",
   "metadata": {},
   "source": [
    "With the parameter values, we now have all the elements we need to solve the model. We can still use the simulation class, but in addition to the model and parameter values, we need to pass the `geometry`, `submesh_types`, `var_pts` and `spatial_methods` as additional keyword variables. Then we can just solve the simulation and plot the results as usual:"
   ]
  },
  {
   "cell_type": "code",
   "execution_count": 13,
   "metadata": {},
   "outputs": [
    {
     "data": {
      "application/vnd.jupyter.widget-view+json": {
       "model_id": "e72336a3026143259b9b4cf2d7ac8193",
       "version_major": 2,
       "version_minor": 0
      },
      "text/plain": [
       "interactive(children=(FloatSlider(value=0.0, description='t', max=1.0, step=0.01), Output()), _dom_classes=('w…"
      ]
     },
     "metadata": {},
     "output_type": "display_data"
    },
    {
     "data": {
      "text/plain": [
       "<pybamm.plotting.quick_plot.QuickPlot at 0x7f7f501eb190>"
      ]
     },
     "execution_count": 13,
     "metadata": {},
     "output_type": "execute_result"
    }
   ],
   "source": [
    "sim = pybamm.Simulation(\n",
    "    model,\n",
    "    parameter_values=parameter_values,\n",
    "    geometry=geometry,\n",
    "    submesh_types=submesh_types,\n",
    "    var_pts=var_pts,\n",
    "    spatial_methods=spatial_methods,\n",
    ")\n",
    "\n",
    "sim.solve([0, 3600])\n",
    "\n",
    "sim.plot(\n",
    "    [\n",
    "        \"Positive particle concentration [mol.m-3]\",\n",
    "        \"Positive particle surface concentration [mol.m-3]\",\n",
    "        \"Voltage [V]\",\n",
    "    ]\n",
    ")"
   ]
  },
  {
   "cell_type": "markdown",
   "metadata": {},
   "source": [
    "In this tutorial we have shown how to build and solve a PDE model in PyBaMM, for which we introduced the concept of discretising PDEs. In the next tutorial we will show how to wrap a model into a class, which is a lot more compact and makes it easier to share the models with other people."
   ]
  },
  {
   "cell_type": "markdown",
   "metadata": {},
   "source": [
    "## References\n",
    "\n",
    "The relevant papers for this notebook are:"
   ]
  },
  {
   "cell_type": "code",
   "execution_count": 14,
   "metadata": {},
   "outputs": [
    {
     "name": "stdout",
     "output_type": "stream",
     "text": [
      "[1] Joel A. E. Andersson, Joris Gillis, Greg Horn, James B. Rawlings, and Moritz Diehl. CasADi – A software framework for nonlinear optimization and optimal control. Mathematical Programming Computation, 11(1):1–36, 2019. doi:10.1007/s12532-018-0139-4.\n",
      "[2] Charles R. Harris, K. Jarrod Millman, Stéfan J. van der Walt, Ralf Gommers, Pauli Virtanen, David Cournapeau, Eric Wieser, Julian Taylor, Sebastian Berg, Nathaniel J. Smith, and others. Array programming with NumPy. Nature, 585(7825):357–362, 2020. doi:10.1038/s41586-020-2649-2.\n",
      "[3] Valentin Sulzer, Scott G. Marquis, Robert Timms, Martin Robinson, and S. Jon Chapman. Python Battery Mathematical Modelling (PyBaMM). Journal of Open Research Software, 9(1):14, 2021. doi:10.5334/jors.309.\n",
      "\n"
     ]
    }
   ],
   "source": [
    "pybamm.print_citations()"
   ]
  }
 ],
 "metadata": {
  "kernelspec": {
   "display_name": "venv",
   "language": "python",
   "name": "python3"
  },
  "language_info": {
   "codemirror_mode": {
    "name": "ipython",
    "version": 3
   },
   "file_extension": ".py",
   "mimetype": "text/x-python",
   "name": "python",
   "nbconvert_exporter": "python",
   "pygments_lexer": "ipython3",
   "version": "3.11.6"
  }
 },
 "nbformat": 4,
 "nbformat_minor": 2
}
